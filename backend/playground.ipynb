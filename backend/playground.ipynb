{
 "cells": [
  {
   "cell_type": "code",
   "execution_count": 88,
   "metadata": {},
   "outputs": [],
   "source": [
    "import pandas as pd\n",
    "from datetime import datetime\n",
    "from sklearn.model_selection import train_test_split\n",
    "data_files = ['Bold_744H-10_31-11_07.csv', 'Courageous_729H-09_25-09_28.csv', 'Fearless_709H-10_31-11_07.csv', 'Gallant_102H-10_04-10_11.csv', 'Noble_4H-10_24-10_29.csv', 'Resolute_728H-10_14-10_21.csv', 'Ruthless_745H-10_01-10_08.csv', 'Steadfast_505H-10_30-11_07.csv', 'Valiant_505H-09_22-09_30.csv']"
   ]
  },
  {
   "cell_type": "code",
   "execution_count": 89,
   "metadata": {},
   "outputs": [],
   "source": [
    "df = pd.read_csv('../eog-resources/data/' + data_files[2])\n",
    "df['Time'] = df['Time'].transform(lambda x: datetime.strptime(x, '%m/%d/%Y %I:%M:%S %p'))\n",
    "df = df.ffill() # fill in missing values"
   ]
  },
  {
   "cell_type": "code",
   "execution_count": 90,
   "metadata": {},
   "outputs": [],
   "source": [
    "# plot the time-series data\n",
    "import matplotlib.pyplot as plt\n",
    "# label the axes\n",
    "plt.xlabel('Time')\n",
    "plt.ylabel('Inj Gas Meter Volume Instantaneous')\n",
    "plt.plot(df['Time'], df['Inj Gas Meter Volume Instantaneous'])\n",
    "\n",
    "plt.show()"
   ]
  },
  {
   "cell_type": "code",
   "execution_count": 91,
   "metadata": {},
   "outputs": [],
   "source": [
    "# make a similar plot using altair\n",
    "import altair as alt\n",
    "alt.data_transformers.disable_max_rows()\n",
    "alt.Chart(df).mark_line().encode(\n",
    "    x='Time',\n",
    "    y='Inj Gas Meter Volume Instantaneous'\n",
    ").properties(\n",
    "    width=800,\n",
    "    height=300\n",
    ").interactive()"
   ]
  },
  {
   "cell_type": "code",
   "execution_count": 78,
   "metadata": {},
   "outputs": [],
   "source": [
    "# put it in a json format I can use with react/recharts\n",
    "df.to_json(orient='records')"
   ]
  },
  {
   "cell_type": "markdown",
   "metadata": {},
   "source": []
  },
  {
   "cell_type": "markdown",
   "metadata": {},
   "source": []
  }
 ],
 "metadata": {
  "kernelspec": {
   "display_name": "Python 3 (ipykernel)",
   "language": "python",
   "name": "python3"
  }
 },
 "nbformat": 4,
 "nbformat_minor": 2
}
